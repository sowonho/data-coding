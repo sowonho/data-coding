{
 "cells": [
  {
   "cell_type": "markdown",
   "id": "19553f23-32c8-405b-9c09-0135ad645e1c",
   "metadata": {},
   "source": [
    "### 표본의 크기와 표준오차"
   ]
  },
  {
   "cell_type": "markdown",
   "id": "9f33a6d0-cc14-4552-bef8-c81ffca77ae2",
   "metadata": {},
   "source": []
  },
  {
   "cell_type": "code",
   "execution_count": 3,
   "id": "ba8580b9-4d6a-4c49-9eb5-55ae20ed5537",
   "metadata": {},
   "outputs": [],
   "source": [
    "import matplotlib.pyplot as plt\n",
    "import math as m"
   ]
  },
  {
   "cell_type": "code",
   "execution_count": 4,
   "id": "8cd25f6d-fc13-4a6f-9521-2f3bec61ad8c",
   "metadata": {},
   "outputs": [],
   "source": [
    "n = 1000\n",
    "x = 832\n",
    "p_cap = x / n\n",
    "p = .85"
   ]
  },
  {
   "cell_type": "markdown",
   "id": "ce8d2553-5180-4ced-8208-08938bd2f11f",
   "metadata": {},
   "source": [
    "여기서 우리가 알고 싶은 것은 모집단에 대한 p를 추정하여 알고 싶다."
   ]
  },
  {
   "cell_type": "markdown",
   "id": "a64ae016-a0e7-4caa-8876-3fb13b7b4516",
   "metadata": {},
   "source": [
    "일반적으로 성공 확률 p인 모집단에서 n개의 표본을 추출하여 x개가 성공(?)인 표본을 얻었을 때 표본비율 p_cap은 다음을 만족한다."
   ]
  },
  {
   "cell_type": "markdown",
   "id": "e8e4829c-e1c5-48a7-a700-ded2fa2f7e1d",
   "metadata": {},
   "source": [
    "1) p_cap의 평균은 E[p_cap] = p\n",
    "2) p_cap의 표준편자는 sqrt(p(1-p) / n)\n",
    "3) n이 크면 p_cap는 근사적으로 정규분포를 따른다.  ==> "
   ]
  },
  {
   "cell_type": "code",
   "execution_count": 30,
   "id": "f2da96a2-d641-41fb-a58b-899fd7fa8120",
   "metadata": {},
   "outputs": [],
   "source": [
    "sigma_p_cap = m.sqrt(p * (1-p) / n)\n"
   ]
  },
  {
   "cell_type": "markdown",
   "id": "ae4b7f22-bd49-4a47-b458-21bcd75a5bfa",
   "metadata": {},
   "source": []
  },
  {
   "cell_type": "code",
   "execution_count": null,
   "id": "47de2169-ffe0-4541-b082-793d277435d0",
   "metadata": {},
   "outputs": [],
   "source": [
    "s = m.sqrt(p_cap * (1 - p_cap) / n)"
   ]
  },
  {
   "cell_type": "code",
   "execution_count": 29,
   "id": "7ed32e27-961c-4287-9381-2c3e65d5e1d6",
   "metadata": {},
   "outputs": [
    {
     "name": "stdout",
     "output_type": "stream",
     "text": [
      "0.011291589790636216 0.011822690049223148\n"
     ]
    }
   ],
   "source": [
    "print(sigma_p_cap, s)"
   ]
  },
  {
   "cell_type": "code",
   "execution_count": 23,
   "id": "c340dc71-3622-459c-93aa-293093c0aab5",
   "metadata": {},
   "outputs": [],
   "source": [
    "expet_p_cap = p"
   ]
  },
  {
   "cell_type": "code",
   "execution_count": 24,
   "id": "223870f7-47ea-4ee1-919e-d1d072b76257",
   "metadata": {},
   "outputs": [
    {
     "data": {
      "text/plain": [
       "0.85"
      ]
     },
     "execution_count": 24,
     "metadata": {},
     "output_type": "execute_result"
    }
   ],
   "source": [
    "expet_p_cap"
   ]
  },
  {
   "cell_type": "code",
   "execution_count": 25,
   "id": "5e3f8b67-b208-4ef1-a4e2-29dc724ecdb8",
   "metadata": {},
   "outputs": [],
   "source": [
    "min_p_cap = p - sigma_p_cap"
   ]
  },
  {
   "cell_type": "code",
   "execution_count": 26,
   "id": "47289c9e-659d-41c8-be02-b831f498a1e6",
   "metadata": {},
   "outputs": [],
   "source": [
    "max_p_cap = p + sigma_p_cap"
   ]
  },
  {
   "cell_type": "code",
   "execution_count": 27,
   "id": "2fe36751-3c0d-4200-85b1-681911d8e38e",
   "metadata": {},
   "outputs": [
    {
     "name": "stdout",
     "output_type": "stream",
     "text": [
      "0.8387084102093637 0.8612915897906362\n"
     ]
    }
   ],
   "source": [
    "print(min_p_cap, max_p_cap)"
   ]
  },
  {
   "cell_type": "markdown",
   "id": "b38b8892-def0-4527-afc4-35507022085e",
   "metadata": {},
   "source": [
    "하지만 모집단의 평균 p를 모르기 때문에 95% 신뢰구간에서 p를 추정한다면"
   ]
  },
  {
   "cell_type": "code",
   "execution_count": 20,
   "id": "f34b5be4-34db-4cd6-841a-68375988ec7d",
   "metadata": {},
   "outputs": [],
   "source": [
    "p_min = p_cap - 1.96 * s\n",
    "p_max = p_cap + 1.96 * s"
   ]
  },
  {
   "cell_type": "code",
   "execution_count": 21,
   "id": "077b1a98-46cf-4b72-8a35-4bac9dc54108",
   "metadata": {},
   "outputs": [
    {
     "name": "stdout",
     "output_type": "stream",
     "text": [
      "0.8088275275035226 0.8551724724964773\n"
     ]
    }
   ],
   "source": [
    "print(p_min, p_max)"
   ]
  },
  {
   "cell_type": "markdown",
   "id": "564ee8aa-fee0-44b7-a545-98bceaa54ea2",
   "metadata": {},
   "source": [
    "### 평균의 표본분포"
   ]
  },
  {
   "cell_type": "code",
   "execution_count": null,
   "id": "07ab4097-8ba8-45c4-80b3-208ff25f7bd1",
   "metadata": {},
   "outputs": [],
   "source": []
  }
 ],
 "metadata": {
  "kernelspec": {
   "display_name": "Python 3 (ipykernel)",
   "language": "python",
   "name": "python3"
  },
  "language_info": {
   "codemirror_mode": {
    "name": "ipython",
    "version": 3
   },
   "file_extension": ".py",
   "mimetype": "text/x-python",
   "name": "python",
   "nbconvert_exporter": "python",
   "pygments_lexer": "ipython3",
   "version": "3.11.8"
  }
 },
 "nbformat": 4,
 "nbformat_minor": 5
}
